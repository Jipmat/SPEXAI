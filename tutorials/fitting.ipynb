{
 "cells": [
  {
   "cell_type": "markdown",
   "metadata": {},
   "source": [
    "# Tutorial on inference with SPEXAI\n",
    "\n",
    "This tutorial explains how you can use SPEXAI to fit observered spectra from a FITS file."
   ]
  },
  {
   "cell_type": "code",
   "execution_count": null,
   "metadata": {},
   "outputs": [],
   "source": [
    "import numpy as np\n",
    "\n",
    "from spexai import FitTempDist"
   ]
  },
  {
   "cell_type": "markdown",
   "metadata": {},
   "source": [
    "## Setup the ensemble sampler\n",
    "\n",
    "The paramater that are fitted are the mean temperature in KeV  ```temp```, standart deviation on the temperature distribution in log10(KeV) ```stdevtemp```, metalicity [solar] ```met``` , single element ```X``` abundace with respect to Iron ```Z_```, turbulent velocity in km/sec ```vel``` and redshift in log10(z) ```logz```. The intial guess with there standard diviation can be put into the dictornary of the ```prior```.\n",
    "\n",
    "The ensemble samper can be intialized with ```nwalkers``` and ```nsteps``` for the walker to go through, other parameter that can be initialized are the Luminosity Distance in m and the energy interval of the spectrum in KeV (```e_min, e_max```)."
   ]
  },
  {
   "cell_type": "code",
   "execution_count": null,
   "metadata": {},
   "outputs": [],
   "source": [
    "prior = {'temp': {'mu': 5, 'sigma': 2},\n",
    "        'stdevtemp': {'mu': -5, 'sigma': 2},\n",
    "        'met':  {'mu': 1, 'sigma': .3},\n",
    "        'Z_':{'mu': 1, 'sigma': .3},\n",
    "        'vel':  {'mu': 100, 'sigma': 50},\n",
    "        'norm': {'mu': 1e10, 'sigma': 1e10},\n",
    "        'logz': {'mu': -5,  'sigma': 2}\n",
    "        }\n",
    "fit = FitTempDist(50, 200, Luminosity_Distance=9.461E+24, prior=prior, e_min=2,e_max=9)"
   ]
  },
  {
   "cell_type": "markdown",
   "metadata": {},
   "source": [
    "### Reading in the FITS files\n",
    "\n",
    "To be able to fit real data the response of the telescope can be read in by the FITS file, for the Response Matrix File (RMF), effective area response file (ARF) and the FITS file of the observed data.\n",
    "\n",
    "In addition the response files there is a sparse matrix (```make_sparsex```) used for convulation that implements line broadening to the spectra. The speed an accuracy of the line broadening is strongly dependent on the kernel size of the convulolution ```n``` and the default ```n=300```, increasing ```n``` will make the line-broading more accurete but will also segnifcanly impact the speed."
   ]
  },
  {
   "cell_type": "code",
   "execution_count": null,
   "metadata": {},
   "outputs": [],
   "source": [
    "'''This step can take a long time to run'''\n",
    "#reading in the response matrix file\n",
    "fit.combined_model.load_rm('Path_RMF')"
   ]
  },
  {
   "cell_type": "code",
   "execution_count": null,
   "metadata": {},
   "outputs": [],
   "source": [
    "#reading in the effective area\n",
    "fit.combined_model.load_arf('Path_ARF')"
   ]
  },
  {
   "cell_type": "code",
   "execution_count": null,
   "metadata": {},
   "outputs": [],
   "source": [
    "'''This step can take a long time to run'''\n",
    "#initializing the sparse matrix for the convolution from line-broadening\n",
    "fit.combined_model.load_sparsematrix_x(n=300)"
   ]
  },
  {
   "cell_type": "code",
   "execution_count": null,
   "metadata": {},
   "outputs": [],
   "source": [
    "#reading in the data\n",
    "fit.load_data('Path_data')"
   ]
  },
  {
   "cell_type": "markdown",
   "metadata": {},
   "source": [
    "#### Add aditional parameters\n",
    "\n",
    "Single element abundace that differ with respect to the overall metalicity and Iron can be added in as extra parameter(s).\n",
    "These are writen in the format ```'ZX [ZX/Fe]'``` with ```X``` the atom number of the elements. ```add_position``` gives the intial values of the sampler for the added paramater(s)."
   ]
  },
  {
   "cell_type": "code",
   "execution_count": null,
   "metadata": {},
   "outputs": [],
   "source": [
    "#names of aditional fitted parameters\n",
    "add_params = ['Z8 [Z8/Fe]','Z14 [Z14/Fe]']\n",
    "#intial position walkers of the initial parameters\n",
    "add_position =  np.concatenate((np.random.normal(1, .3, size=(1, fit.nwalkers)),\n",
    "                                np.random.normal(1, .3, size=(1, fit.nwalkers))), axis=0)"
   ]
  },
  {
   "cell_type": "markdown",
   "metadata": {},
   "source": [
    "Then after ensemble sampler has been fully intialized the data can be fitted with ```FitTempDist.fit_spectra``` making use of ```emcee``` algorithm.\n",
    "```FitTempDist.fit_spectra``` will aslo print the the integrated autocorrelation time to give an indication of the burn-in time."
   ]
  },
  {
   "cell_type": "code",
   "execution_count": null,
   "metadata": {},
   "outputs": [],
   "source": [
    "#fitting the data\n",
    "np.seterr(all=\"ignore\")\n",
    "fit.fit_spectra(add_params=add_params, add_position=add_position)"
   ]
  },
  {
   "cell_type": "markdown",
   "metadata": {},
   "source": [
    "## Evaluating the fit results\n",
    "\n",
    "The progress of the walker can be visualized in a timeseries giving the parameter values for each walker at each step in the chain."
   ]
  },
  {
   "cell_type": "code",
   "execution_count": null,
   "metadata": {},
   "outputs": [],
   "source": [
    "fit.plot_timeseries()"
   ]
  },
  {
   "cell_type": "markdown",
   "metadata": {},
   "source": [
    "The results of the fit can visualized with a cornerplot. ```FitTempDist.cornerplot``` is also able to save the sampled posterior in an .csv format by giving a directory name.  In this example you discard the first ```200``` steps in the chain and only reading every 15th step. The corner plot can also be oveploted with the true values of the parameters by giving a dictionary ```true_values```."
   ]
  },
  {
   "cell_type": "code",
   "execution_count": null,
   "metadata": {},
   "outputs": [],
   "source": [
    "fit.cornerplot(200, thin=15, filedir=None)"
   ]
  },
  {
   "cell_type": "markdown",
   "metadata": {},
   "source": [
    "The fit results can be directly compared to the data by overplotting the fitted model with parameters drawn from the posterior to the observed data. Also plots the mean and 1-sigma interval of the fitted parameters."
   ]
  },
  {
   "cell_type": "code",
   "execution_count": null,
   "metadata": {},
   "outputs": [],
   "source": [
    "fit.plot_spectrum()"
   ]
  }
 ],
 "metadata": {
  "language_info": {
   "name": "python"
  },
  "orig_nbformat": 4
 },
 "nbformat": 4,
 "nbformat_minor": 2
}
