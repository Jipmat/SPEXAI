{
 "cells": [
  {
   "cell_type": "markdown",
   "metadata": {},
   "source": [
    "# Tutorial on inference with SPEXAI\n",
    "\n",
    "This tutorial explains how you can use SPEXAI to fit observered spectra from a FITS file."
   ]
  },
  {
   "cell_type": "code",
   "execution_count": null,
   "metadata": {},
   "outputs": [],
   "source": [
    "import numpy as np\n",
    "from spexai import Fit, TwoTemp, TempDist"
   ]
  },
  {
   "cell_type": "markdown",
   "metadata": {},
   "source": [
    "## Fitting an One-Temperature Model\n",
    "\n",
    "Simulated data or real data can be model with a one temperuture model by  ```Fit```\n",
    "\n",
    "The paramater that are fitted are the \n",
    "- Temperature in KeV  ```temp``` (between 0.2 and 10 KeV)\n",
    "- Metalicity [solar] ```met```  (larger then 0)\n",
    "- Turbulent velocity in km/sec ```vel``` (between 0 and 600 km/sec)\n",
    "- Redshift in log10(z) ```logz``` (between -10 and 1)\n",
    "- Normalisation ```norm``` (between 1e5 and 1e15)\n",
    "\n",
    "Additional parameter(s)\n",
    "- Single element ```X``` abundace ratio with respect to Iron ```ZX```, where ```X``` is tha atom number (larger then 0)\n",
    "\n",
    "The intial guess with there standard diviation of all the parameters that are fitted can be put into the dictiornary of the ```prior```."
   ]
  },
  {
   "cell_type": "code",
   "execution_count": null,
   "metadata": {},
   "outputs": [],
   "source": [
    "#intial guess and prior for fit\n",
    "prior = {\n",
    "        'temp': {'mu': 5,    'sigma': 2},\n",
    "        'met' : {'mu': 1,    'sigma': .3},\n",
    "        'vel' : {'mu': 100,  'sigma': 50},\n",
    "        'logz': {'mu': -5,   'sigma': 2},\n",
    "        'norm': {'mu': 1e10, 'sigma': 1e9}\n",
    "        }"
   ]
  },
  {
   "cell_type": "markdown",
   "metadata": {},
   "source": [
    "The ensemble samper can be intialized with ```nwalkers``` and ```nsteps``` for the walker to go through, ```prior``` indicates the intial values for the parameters and there Gaussion prior in the likelihood, other parameter that can be initialized are the Luminosity Distance in m and the energy interval of the spectrum in KeV (```e_min``` > 0.1; ```e_max``` < 25).\n",
    "\n",
    "```fdir_nn``` is the file directory to the trained neural networks and should match the path on your device."
   ]
  },
  {
   "cell_type": "code",
   "execution_count": null,
   "metadata": {},
   "outputs": [],
   "source": [
    "#initialize the\n",
    "fit = Fit(50, 200, prior, Luminosity_Distance=1e24, fdir_nn='/home/jip/MasterProject/spexai_code/neuralnetworks/')"
   ]
  },
  {
   "cell_type": "markdown",
   "metadata": {},
   "source": [
    "### Reading in the FITS files\n",
    "\n",
    "To be able to fit real data the response of the telescope can be read in by the FITS file, for the Response Matrix File (RMF), effective area response file (ARF).\n",
    "\n",
    "The data used for fitting can be read in from a FITS file of the observed data ```Fit.load_data```, or can be simulated by the model with ```Fit.sim_data(params)``` here ```params``` is a dictornary with the parameter names and there values.\n",
    "\n",
    "In addition the response files there is a sparse matrix (```make_sparsex```) used for convulation that implements line broadening to the spectra. The speed an accuracy of the line broadening is strongly dependent on the kernel size of the convulolution ```n``` and the default ```n=300```, increasing ```n``` will make the line-broading more accurete but will also segnifcanly impact the speed."
   ]
  },
  {
   "cell_type": "code",
   "execution_count": null,
   "metadata": {},
   "outputs": [],
   "source": [
    "'''This step can take a long time to run'''\n",
    "#reading in the response matrix file\n",
    "fit.combined_model.load_rm('/home/jip/MasterProject/obs234_HP_obs234_all_det_he.rmf')"
   ]
  },
  {
   "cell_type": "code",
   "execution_count": null,
   "metadata": {},
   "outputs": [],
   "source": [
    "#reading in the effective area\n",
    "fit.combined_model.load_arf('/home/jip/MasterProject/obs234_HP_obs234_all_det_point_he.arf')"
   ]
  },
  {
   "cell_type": "code",
   "execution_count": null,
   "metadata": {},
   "outputs": [],
   "source": [
    "'''This step can take a long time to run'''\n",
    "#initializing the sparse matrix for the convolution from line-broadening\n",
    "fit.combined_model.load_sparsematrix_x(n=300)"
   ]
  },
  {
   "cell_type": "code",
   "execution_count": null,
   "metadata": {},
   "outputs": [],
   "source": [
    "#create your own data\n",
    "params = {'temp':5,'logz':-2, 'vel':100, 'met':1.2, 'norm':1e10, 'Z8':1.2, 'Z14':0.9}\n",
    "fit.sim_data(params)"
   ]
  },
  {
   "cell_type": "markdown",
   "metadata": {},
   "source": [
    "__Add aditional parameters__\n",
    "\n",
    "Single element abundace that differ with respect to the overall metalicity and Iron can be added in as extra parameter(s).\n",
    "These are writen in the format ```'ZX'``` with ```X``` the atom number of the elements. ```add_prior``` gives the prior and intial  values of the added paramater(s)."
   ]
  },
  {
   "cell_type": "code",
   "execution_count": null,
   "metadata": {},
   "outputs": [],
   "source": [
    "#names of aditional fitted parameters \n",
    "add_prior = {'Z8':{'mu':1, 'sigma':.3},'Z14':{'mu':1, 'sigma':.3}}"
   ]
  },
  {
   "cell_type": "markdown",
   "metadata": {},
   "source": [
    "### Run Ensemble Sampler Fit\n",
    "\n",
    "Then after ensemble sampler has been fully intialized the data can be fitted with ```Fit.fit_spectra``` making use of ```emcee``` algorithm.\n",
    "```Fit.fit_spectra``` will also print the integrated autocorrelation time to give an indication of the burn-in time."
   ]
  },
  {
   "cell_type": "code",
   "execution_count": null,
   "metadata": {},
   "outputs": [],
   "source": [
    "'''This step can take a long time to run'''\n",
    "np.seterr(all=\"ignore\")#ignore RuntimeWarning error prints\n",
    "fit.fit_spectra(add_prior=add_prior)"
   ]
  },
  {
   "cell_type": "markdown",
   "metadata": {},
   "source": [
    "### Evaluating the fit results\n",
    "\n",
    "The progress of the walker can be visualized in a timeseries giving the parameter values for each walker at each step in the chain."
   ]
  },
  {
   "cell_type": "code",
   "execution_count": null,
   "metadata": {},
   "outputs": [],
   "source": [
    "fit.plot_timeseries()"
   ]
  },
  {
   "cell_type": "markdown",
   "metadata": {},
   "source": [
    "The results of the fit can visualized with a cornerplot. ```Fit.cornerplot``` is also able to save the sampled posterior in an .csv format by giving a directory name ```fitdir```.  In this example you discard the first ```100``` steps in the chain ```discard``` and only reading every 15th step ```thin```. The corner plot can also be oveploted with the true values of the parameters by giving a list ```true_values```, where the values shoud be same order as the prior."
   ]
  },
  {
   "cell_type": "code",
   "execution_count": null,
   "metadata": {},
   "outputs": [],
   "source": [
    "#true_val = [temp,   met,    vel,    logz    norm,   Z8,    Z14]\n",
    "true_val =  [5,      1,      100,    -2,     1e10,   1.2,   0.9]\n",
    "\n",
    "fit.cornerplot(1, thin=1, fitdir=None, true_values=true_val)"
   ]
  },
  {
   "cell_type": "markdown",
   "metadata": {},
   "source": [
    "The fit results can be directly compared to the data by overplotting the fitted model with parameters drawn from the posterior to the observed data, the number of samples it overplots is given by ```nsample```. Also prints the mean and 1-sigma interval of the fitted parameters."
   ]
  },
  {
   "cell_type": "code",
   "execution_count": null,
   "metadata": {},
   "outputs": [],
   "source": [
    "'''This step can take a long time to run'''\n",
    "fit.plot_spectrum(nsample=20)"
   ]
  },
  {
   "cell_type": "markdown",
   "metadata": {},
   "source": [
    "## Fitting a Two-Temperature Model\n",
    "\n",
    "Simulated data or real data can be model with a one temperuture model by  ```TwoTemp``` a subclass of Fit\n",
    "\n",
    "The paramater that are fitted are the \n",
    "- First temperature in KeV  ```temp1``` (between 0.2 and 10 KeV)\n",
    "- Second temperature in KeV  ```temp2``` (between 0.2 and 10 KeV)\n",
    "- Metalicity [Z_solar] ```met```  (larger then 0)\n",
    "- Turbulent velocity in km/sec ```vel``` (between 0 and 600 km/sec)\n",
    "- Redshift in log10(z) ```logz``` (between -10 and 1)\n",
    "- First normalisation ```norm1``` (between 1e5 and 1e15)\n",
    "- Second normalisation ```norm2``` (between 1e5 and 1e15)\n",
    "\n",
    "Additional parameter(s)\n",
    "- Single element ```X``` abundace ratio with respect to Iron ```ZX```, where ```X``` is tha atom number (larger then 0)\n",
    "\n",
    "The intial guess with there standard diviation of all the parameters that are fitted can be put into the dictiornary of the ```prior```."
   ]
  },
  {
   "cell_type": "code",
   "execution_count": null,
   "metadata": {},
   "outputs": [],
   "source": [
    "#intial guess and prior for fit\n",
    "prior = {\n",
    "        'temp1': {'mu': 4.5,    'sigma': 2},\n",
    "        'temp2': {'mu': 6,    'sigma': 2},\n",
    "        'met' : {'mu': 1,    'sigma': .3},\n",
    "        'vel' : {'mu': 100,  'sigma': 50},\n",
    "        'logz': {'mu': -5,   'sigma': 2},\n",
    "        'norm1': {'mu': 1e10, 'sigma': 1e9},\n",
    "        'norm2': {'mu': 1.5e10, 'sigma': 1e9}\n",
    "        }"
   ]
  },
  {
   "cell_type": "markdown",
   "metadata": {},
   "source": [
    "The ensemble samper can be intialized with ```nwalkers``` and ```nsteps``` for the walker to go through, ```prior``` indicates the intial values for the parameters and there Gaussion prior in the likelihood, other parameter that can be initialized are the Luminosity Distance in m and the energy interval of the spectrum in KeV (```e_min``` > 0.1; ```e_max``` < 25).\n",
    "\n",
    "```fdir_nn``` is the file directory to the trained neural networks and should match the path on your device."
   ]
  },
  {
   "cell_type": "code",
   "execution_count": null,
   "metadata": {},
   "outputs": [],
   "source": [
    "#initialize the\n",
    "fit_2t = TwoTemp(50, 200, prior, Luminosity_Distance=1e24, fdir_nn='/home/jip/MasterProject/spexai_code/neuralnetworks/')"
   ]
  },
  {
   "cell_type": "markdown",
   "metadata": {},
   "source": [
    "### Reading in the FITS files\n",
    "\n",
    "To be able to fit real data the response of the telescope can be read in by the FITS file, for the Response Matrix File (RMF), effective area response file (ARF).\n",
    "\n",
    "The data used for fitting can be read in from a FITS file of the observed data ```TwoTemp.load_data```, or can be simulated by the model with ```TwoTemp.sim_data(params)``` here ```params``` is a dictornary with the parameter names and there values.\n",
    "\n",
    "In addition the response files there is a sparse matrix (```make_sparsex```) used for convulation that implements line broadening to the spectra. The speed an accuracy of the line broadening is strongly dependent on the kernel size of the convulolution ```n``` and the default ```n=300```, increasing ```n``` will make the line-broading more accurete but will also segnifcanly impact the speed."
   ]
  },
  {
   "cell_type": "code",
   "execution_count": null,
   "metadata": {},
   "outputs": [],
   "source": [
    "'''This step can take a long time to run'''\n",
    "#reading in the response matrix file\n",
    "fit_2t.combined_model.load_rm('/home/jip/MasterProject/obs234_HP_obs234_all_det_he.rmf')"
   ]
  },
  {
   "cell_type": "code",
   "execution_count": null,
   "metadata": {},
   "outputs": [],
   "source": [
    "#reading in the effective area\n",
    "fit_2t.combined_model.load_arf('/home/jip/MasterProject/obs234_HP_obs234_all_det_point_he.arf')"
   ]
  },
  {
   "cell_type": "code",
   "execution_count": null,
   "metadata": {},
   "outputs": [],
   "source": [
    "'''This step can take a long time to run'''\n",
    "#initializing the sparse matrix for the convolution from line-broadening\n",
    "fit_2t.combined_model.load_sparsematrix_x(n=300)"
   ]
  },
  {
   "cell_type": "code",
   "execution_count": null,
   "metadata": {},
   "outputs": [],
   "source": [
    "#create your own data\n",
    "params = {'temp1':4, 'temp2':5.8, 'logz':-2, 'vel':100, 'met':1.2, 'norm1':8e9, 'norm2':1.2e10}\n",
    "fit_2t.sim_data(params)"
   ]
  },
  {
   "cell_type": "markdown",
   "metadata": {},
   "source": [
    "__Add aditional parameters__\n",
    "\n",
    "Single element abundace that differ with respect to the overall metalicity and Iron can be added in as extra parameter(s).\n",
    "These are writen in the format ```'ZX'``` with ```X``` the atom number of the elements. ```add_prior``` gives the prior and intial  values of the added paramater(s)."
   ]
  },
  {
   "cell_type": "code",
   "execution_count": null,
   "metadata": {},
   "outputs": [],
   "source": [
    "#names of aditional fitted parameters \n",
    "add_prior = {'Z8':{'mu':1, 'sigma':.3},'Z14':{'mu':1, 'sigma':.3}}"
   ]
  },
  {
   "cell_type": "markdown",
   "metadata": {},
   "source": [
    "### Run Ensemble Sampler Fit\n",
    "\n",
    "Then after ensemble sampler has been fully intialized the data can be fitted with ```Fit.fit_spectra``` making use of ```emcee``` algorithm.\n",
    "```TwoTemp.fit_spectra``` will also print the integrated autocorrelation time to give an indication of the burn-in time."
   ]
  },
  {
   "cell_type": "code",
   "execution_count": null,
   "metadata": {},
   "outputs": [],
   "source": [
    "'''This step can take a long time to run'''\n",
    "np.seterr(all=\"ignore\")#ignore RuntimeWarning error prints\n",
    "fit_2t.fit_spectra(add_prior=add_prior)"
   ]
  },
  {
   "cell_type": "markdown",
   "metadata": {},
   "source": [
    "### Evaluating the fit results\n",
    "\n",
    "The progress of the walker can be visualized in a timeseries giving the parameter values for each walker at each step in the chain."
   ]
  },
  {
   "cell_type": "code",
   "execution_count": null,
   "metadata": {},
   "outputs": [],
   "source": [
    "fit.plot_timeseries()"
   ]
  },
  {
   "cell_type": "markdown",
   "metadata": {},
   "source": [
    "The results of the fit can visualized with a cornerplot. ```TwoTemp.cornerplot``` is also able to save the sampled posterior in an .csv format by giving a directory name ```fitdir```.  In this example you discard the first ```100``` steps in the chain ```discard``` and only reading every 15th step ```thin```. The corner plot can also be oveploted with the true values of the parameters by giving a list ```true_values```, where the values shoud be same order as the prior."
   ]
  },
  {
   "cell_type": "code",
   "execution_count": null,
   "metadata": {},
   "outputs": [],
   "source": [
    "#true_val = [temp1, temp2,  met,    vel,    logz    norm1,  norm2,  Z8,    Z14]\n",
    "true_val =  [4,     5.8,    1,      100,    -2,     8e9,    1.2e10, 1.2,   0.9]\n",
    "\n",
    "fit.cornerplot(1, thin=1, fitdir=None, true_values=true_val)"
   ]
  },
  {
   "cell_type": "markdown",
   "metadata": {},
   "source": [
    "The fit results can be directly compared to the data by overplotting the fitted model with parameters drawn from the posterior to the observed data, the number of samples it overplots is given by ```nsample```. Also prints the mean and 1-sigma interval of the fitted parameters."
   ]
  },
  {
   "cell_type": "code",
   "execution_count": null,
   "metadata": {},
   "outputs": [],
   "source": [
    "'''This step can take a long time to run'''\n",
    "fit.plot_spectrum(nsample=20)"
   ]
  },
  {
   "cell_type": "markdown",
   "metadata": {},
   "source": [
    "## Fitting a Multi-Temperature Distribution Model\n",
    "\n",
    "This uses a Subclass of ```Fit```, ```TempDist``` to fit a model with a multi-temperature distribution.\n",
    "\n",
    "The temperature need to give a function that outputs a temperature grid and temperature distribution described by parameters. The output of the temperature grid should always be inbetween 0.2 and 10 KeV and linearly spaced and the distribution should always be normalized.\n",
    "\n",
    "In this exapmle we look at a Normal Distribution for our temperature distribution, parametrized by a mean temperature and standard devitation.\n",
    "\n",
    "The paramater that are fitted\n",
    "- Mean Temperature in KeV ```mean_temp``` (between 0.2 and 10)\n",
    "- Standard divation of Temperature in log(KeV) ```log_sd_temp``` (between -5, 0.3)\n",
    "- Metalicity [Z_solar] ```met```  (larger then 0)\n",
    "- Turbulent velocity in km/sec ```vel``` (between 0 and 600 km/sec)\n",
    "- Redshift in log10(z) ```logz``` (between -10 and 1)\n",
    "- Normalisation ```norm``` (between 1e5 and 1e15)\n",
    "\n",
    "Additional parameter(s)\n",
    "- Single element ```X``` abundace ratio with respect to Iron ```ZX```, where ```X``` is tha atom number (larger then 0)\n",
    "\n",
    "The intial guess with there standard diviation can be put into the dictiornary of the ```prior```."
   ]
  },
  {
   "cell_type": "code",
   "execution_count": null,
   "metadata": {},
   "outputs": [],
   "source": [
    "def normal_dist(params):\n",
    "    '''\n",
    "    Normal Distribution with stdev in logspace\n",
    "    Parameters\n",
    "    ----------\n",
    "    params: dict\n",
    "        dictionary with the keys of distribution parameters\n",
    "        in this case 'mean_temp' and 'log_sd_temp'\n",
    "    '''\n",
    "    #intialize temperature grid\n",
    "    low = max(params['mean_temp']-5*10**params['log_sd_temp'], 0.2)\n",
    "    high = min(params['mean_temp']+5*10**params['log_sd_temp'], 10)\n",
    "    temp_grid = np.linspace(low, high,  500)\n",
    "    \n",
    "    #Gaussion distribution\n",
    "    mean = params['mean_temp']\n",
    "    sd = 10**params['log_sd_temp']\n",
    "    temp_dist = 1/(np.sqrt(2*np.pi)*sd**2) * np.exp(-0.5*((temp_grid-mean)/sd)**2)\n",
    "    \n",
    "    #normalize the function \n",
    "    temp_dist = temp_dist/np.sum(temp_dist*np.mean(np.diff(temp_grid)))\n",
    "    return temp_grid, temp_dist\n",
    "\n",
    "#define allowed interval of parameter of the distribution\n",
    "interval = {\n",
    "            'mean_temp': [0.2,10],\n",
    "            'log_sd_temp'  : [-5, 0.3]\n",
    "           }"
   ]
  },
  {
   "cell_type": "markdown",
   "metadata": {},
   "source": [
    "The intial guess with there standard diviation of all the parameters that are fitted can be put into the dictiornary of the ```prior```."
   ]
  },
  {
   "cell_type": "code",
   "execution_count": null,
   "metadata": {},
   "outputs": [],
   "source": [
    "#intial guess and prior for temp run\n",
    "prior = {\n",
    "        'mean_temp': {'mu': 5, 'sigma': 2},\n",
    "        'log_sd_temp'  : {'mu': -5, 'sigma': 2},\n",
    "        'met'      : {'mu': 1, 'sigma': .3},\n",
    "        'vel'      : {'mu': 100, 'sigma': 50},\n",
    "        'logz'     : {'mu': -5,  'sigma': 2},\n",
    "        'norm'     : {'mu': 1e10, 'sigma': 1e9}\n",
    "        }"
   ]
  },
  {
   "cell_type": "markdown",
   "metadata": {},
   "source": [
    "The ensemble samper can be intialized with ```nwalkers``` and ```nsteps``` for the walker to go through, the prior ```prior```, for the TempDist we need to give the function that returns a normalized temperature distribution with the temperature grid ```normal_dist``` and the bound interval of this ditributions parameter ```interval```, other parameter that can be initialized are the Luminosity Distance in m and the energy interval of the spectrum in KeV (```e_min, e_max```)."
   ]
  },
  {
   "cell_type": "code",
   "execution_count": null,
   "metadata": {},
   "outputs": [],
   "source": [
    "#initialize the\n",
    "fit_dist = TempDist(50, 200, prior, normal_dist, interval, Luminosity_Distance=9.461e24, e_min=2, e_max=9, fdir_nn='/home/jip/MasterProject/spexai_code/neuralnetworks/')"
   ]
  },
  {
   "cell_type": "markdown",
   "metadata": {},
   "source": [
    "### Reading in the FITS files\n",
    "\n",
    "To be able to fit real data the response of the telescope can be read in by the FITS file, for the Response Matrix File (RMF), effective area response file (ARF) and the FITS file of the observed data.\n",
    "\n",
    "In addition the response files there is a sparse matrix (```make_sparsex```) used for convulation that implements line broadening to the spectra. The speed an accuracy of the line broadening is strongly dependent on the kernel size of the convulolution ```n``` and the default ```n=300```, increasing ```n``` will make the line-broading more accurete but will also segnifcanly impact the speed."
   ]
  },
  {
   "cell_type": "code",
   "execution_count": null,
   "metadata": {},
   "outputs": [],
   "source": [
    "'''This step can take a long time to run'''\n",
    "#reading in the response matrix file\n",
    "fit_dist.combined_model.load_rm('/home/jip/MasterProject/obs234_HP_obs234_all_det_he.rmf')"
   ]
  },
  {
   "cell_type": "code",
   "execution_count": null,
   "metadata": {},
   "outputs": [],
   "source": [
    "#reading in the effective area\n",
    "fit_dist.combined_model.load_arf('/home/jip/MasterProject/obs234_HP_obs234_all_det_point_he.arf')"
   ]
  },
  {
   "cell_type": "code",
   "execution_count": null,
   "metadata": {},
   "outputs": [],
   "source": [
    "'''This step can take a long time to run'''\n",
    "#initializing the sparse matrix for the convolution from line-broadening\n",
    "fit_dist.combined_model.load_sparsematrix_x(n=300)"
   ]
  },
  {
   "cell_type": "markdown",
   "metadata": {},
   "source": [
    "Now instead of simulating the data we are reading it in from a FITS file"
   ]
  },
  {
   "cell_type": "code",
   "execution_count": null,
   "metadata": {},
   "outputs": [],
   "source": [
    "#reading in the data\n",
    "fit_dist.load_data('/home/jip/MasterProject/obs234_HP_obs234_all_det_valign_gcor_he.pi')\n"
   ]
  },
  {
   "cell_type": "markdown",
   "metadata": {},
   "source": [
    "#### Add aditional parameters\n",
    "\n",
    "Single element abundace that differ with respect to the overall metalicity and Iron can be added in as extra parameter(s).\n",
    "These are writen in the format ```'ZX'``` with ```X``` the atom number of the elements. ```add_prior``` gives the prior and intial  values of the added paramater(s)."
   ]
  },
  {
   "cell_type": "code",
   "execution_count": null,
   "metadata": {},
   "outputs": [],
   "source": [
    "#names of aditional fitted parameters \n",
    "add_prior = {'Z8':{'mu':1, 'sigma':.3},'Z14':{'mu':1, 'sigma':.3}}"
   ]
  },
  {
   "cell_type": "markdown",
   "metadata": {},
   "source": [
    "Then after ensemble sampler has been fully intialized the data can be fitted with ```TempDist.fit_spectra``` making use of ```emcee``` algorithm.\n",
    "```TempDist.fit_spectra``` will aslo print the the integrated autocorrelation time to give an indication of the burn-in time."
   ]
  },
  {
   "cell_type": "code",
   "execution_count": null,
   "metadata": {},
   "outputs": [],
   "source": [
    "'''This step can take a long time to run'''\n",
    "np.seterr(all=\"ignore\")#ignore RuntimeWarning error prints\n",
    "fit_dist.fit_spectra(add_prior=add_prior)"
   ]
  },
  {
   "cell_type": "markdown",
   "metadata": {},
   "source": [
    "### Evaluating the fit results\n",
    "\n",
    "The progress of the walker can be visualized in a timeseries giving the parameter values for each walker at each step in the chain."
   ]
  },
  {
   "cell_type": "code",
   "execution_count": null,
   "metadata": {},
   "outputs": [],
   "source": [
    "fit_dist.plot_timeseries()"
   ]
  },
  {
   "cell_type": "markdown",
   "metadata": {},
   "source": [
    "The results of the fit can visualized with a cornerplot. ```TempDist.cornerplot``` is also able to save the sampled posterior in an .csv format by giving a directory name ```fitdir```.  In this example you discard the first ```100``` steps in the chain ```discard``` and only reading every 15th step ```thin```. The corner plot can also be oveploted with the true values of the parameters by giving a list ```true_values```, where the values shoud be same order as the prior."
   ]
  },
  {
   "cell_type": "code",
   "execution_count": null,
   "metadata": {},
   "outputs": [],
   "source": [
    "#true_val = mean_temp,  log_sd_temp,    met,    vel,    logz    norm,   Z8, Z14\n",
    "true_val = [5,          -2,             1,      100,    -2,     1e10,   1,  1  ]\n",
    "\n",
    "fit_dist.cornerplot(1, thin=1, fitdir=None, true_values=None)"
   ]
  },
  {
   "cell_type": "markdown",
   "metadata": {},
   "source": [
    "The fit results can be directly compared to the data by overplotting the fitted model with parameters drawn from the posterior to the observed data, the number of samples it overplots is given by ```nsample```. Also prints the mean and 1-sigma interval of the fitted parameters."
   ]
  },
  {
   "cell_type": "code",
   "execution_count": null,
   "metadata": {},
   "outputs": [],
   "source": [
    "'''This step can take a long time to run'''\n",
    "fit_dist.plot_spectrum(nsample=20)"
   ]
  }
 ],
 "metadata": {
  "kernelspec": {
   "display_name": "Python 3",
   "language": "python",
   "name": "python3"
  },
  "language_info": {
   "codemirror_mode": {
    "name": "ipython",
    "version": 3
   },
   "file_extension": ".py",
   "mimetype": "text/x-python",
   "name": "python",
   "nbconvert_exporter": "python",
   "pygments_lexer": "ipython3",
   "version": "3.10.6"
  },
  "orig_nbformat": 4
 },
 "nbformat": 4,
 "nbformat_minor": 2
}
